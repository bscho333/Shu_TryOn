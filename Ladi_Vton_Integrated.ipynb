{
  "nbformat": 4,
  "nbformat_minor": 0,
  "metadata": {
    "colab": {
      "provenance": [],
      "gpuType": "T4",
      "collapsed_sections": [
        "P7bW8plYoKuY",
        "meP_1aa2oOjE"
      ]
    },
    "kernelspec": {
      "name": "python3",
      "display_name": "Python 3"
    },
    "accelerator": "GPU"
  },
  "cells": [
    {
      "cell_type": "markdown",
      "metadata": {
        "id": "3CCSQIBMAYYZ"
      },
      "source": [
        "# Ladi-Vton-Integrated\n",
        "\n",
        "This is for integrating all components required for utilizing ladi-vton with just a image of cloth and person."
      ]
    },
    {
      "cell_type": "code",
      "source": [
        "import os, sys\n",
        "from google.colab import drive\n",
        "drive.mount('/content/drive')\n",
        "\n",
        "my_path = '/content/python_env'\n",
        "# Colab Notebooks 안에 python_env 폴더에 패키지 저장\n",
        "# os.symlink('/content/drive/MyDrive/Colab Notebooks/python_env', my_path)\n",
        "# !mkdir $my_path\n",
        "!ln -s '/content/drive/MyDrive/ColabNotebooks/python_env' $my_path\n",
        "sys.path.insert(0, my_path)"
      ],
      "metadata": {
        "id": "2dKmaILpjU7P",
        "colab": {
          "base_uri": "https://localhost:8080/"
        },
        "outputId": "fb37a5d5-be48-4c89-fddc-f5c31e1fe44d"
      },
      "execution_count": 1,
      "outputs": [
        {
          "output_type": "stream",
          "name": "stdout",
          "text": [
            "Mounted at /content/drive\n"
          ]
        }
      ]
    },
    {
      "cell_type": "code",
      "source": [
        "!nvcc --version"
      ],
      "metadata": {
        "colab": {
          "base_uri": "https://localhost:8080/"
        },
        "id": "waWsanumkgFT",
        "outputId": "04fbf4cc-a24a-40be-c8ac-a95ef6684b1a"
      },
      "execution_count": 2,
      "outputs": [
        {
          "output_type": "stream",
          "name": "stdout",
          "text": [
            "nvcc: NVIDIA (R) Cuda compiler driver\n",
            "Copyright (c) 2005-2022 NVIDIA Corporation\n",
            "Built on Wed_Sep_21_10:33:58_PDT_2022\n",
            "Cuda compilation tools, release 11.8, V11.8.89\n",
            "Build cuda_11.8.r11.8/compiler.31833905_0\n"
          ]
        }
      ]
    },
    {
      "cell_type": "code",
      "source": [
        "import os\n",
        "import sys\n",
        "from PIL import Image\n",
        "import torch\n",
        "import time\n"
      ],
      "metadata": {
        "id": "ZDzGS3fAqrKm"
      },
      "execution_count": 2,
      "outputs": []
    },
    {
      "cell_type": "markdown",
      "source": [
        "## 기타 prerequisite 설치(첫 실행에 한번만)"
      ],
      "metadata": {
        "id": "6RxTgsA2oSi4"
      }
    },
    {
      "cell_type": "code",
      "source": [
        "# requirements\n",
        "#!pip install --target=$my_path packages\n",
        "\n",
        "!pip install --target=$my_path cython\n",
        "!pip install --target=$my_path git+https://github.com/philferriere/cocoapi.git#subdirectory=PythonAPI\n",
        "\n"
      ],
      "metadata": {
        "id": "qun6FXVip88p",
        "colab": {
          "base_uri": "https://localhost:8080/"
        },
        "outputId": "ff16b09c-d6a3-492f-cd23-ec201e2b73ce"
      },
      "execution_count": 3,
      "outputs": [
        {
          "output_type": "stream",
          "name": "stdout",
          "text": [
            "Collecting cython\n",
            "  Downloading Cython-3.0.5-cp310-cp310-manylinux_2_17_x86_64.manylinux2014_x86_64.whl (3.6 MB)\n",
            "\u001b[2K     \u001b[90m━━━━━━━━━━━━━━━━━━━━━━━━━━━━━━━━━━━━━━━━\u001b[0m \u001b[32m3.6/3.6 MB\u001b[0m \u001b[31m14.1 MB/s\u001b[0m eta \u001b[36m0:00:00\u001b[0m\n",
            "\u001b[?25hInstalling collected packages: cython\n",
            "Successfully installed cython-3.0.5\n",
            "Collecting git+https://github.com/philferriere/cocoapi.git#subdirectory=PythonAPI\n",
            "  Cloning https://github.com/philferriere/cocoapi.git to /tmp/pip-req-build-h44ch0z7\n",
            "  Running command git clone --filter=blob:none --quiet https://github.com/philferriere/cocoapi.git /tmp/pip-req-build-h44ch0z7\n",
            "  Resolved https://github.com/philferriere/cocoapi.git to commit 2929bd2ef6b451054755dfd7ceb09278f935f7ad\n",
            "  Preparing metadata (setup.py) ... \u001b[?25l\u001b[?25hdone\n",
            "Building wheels for collected packages: pycocotools\n",
            "  Building wheel for pycocotools (setup.py) ... \u001b[?25l\u001b[?25hdone\n",
            "  Created wheel for pycocotools: filename=pycocotools-2.0-cp310-cp310-linux_x86_64.whl size=375391 sha256=3a05d6eb0664bf4268e58f534a8c2fff51889368d5905008ef7cc401263cc9ef\n",
            "  Stored in directory: /tmp/pip-ephem-wheel-cache-j66t0vp9/wheels/8e/1a/5f/0c984ae3d65a4d7da4ba3407d2a8d8c8e85dd55f84d4936f04\n",
            "Successfully built pycocotools\n",
            "Installing collected packages: pycocotools\n",
            "Successfully installed pycocotools-2.0\n"
          ]
        }
      ]
    },
    {
      "cell_type": "markdown",
      "source": [
        "## Openpose 설치(실패)"
      ],
      "metadata": {
        "id": "49Wr_ttFoEEv"
      }
    },
    {
      "cell_type": "code",
      "source": [
        "# install openpose\n",
        "import os\n",
        "from os.path import exists, join, basename, splitext\n",
        "\n",
        "git_repo_url = 'https://github.com/CMU-Perceptual-Computing-Lab/openpose.git'\n",
        "project_name = splitext(basename(git_repo_url))[0]\n",
        "if not exists(project_name):\n",
        "  # # see: https://github.com/CMU-Perceptual-Computing-Lab/openpose/issues/949\n",
        "  # # install new CMake becaue of CUDA10\n",
        "  !wget -q https://cmake.org/files/v3.13/cmake-3.13.0-Linux-x86_64.tar.gz\n",
        "  !tar xfz cmake-3.13.0-Linux-x86_64.tar.gz --strip-components=1 -C /usr/local\n",
        "  # clone openpose\n",
        "  !git clone -q --depth 1 $git_repo_url\n",
        "  !sed -i 's/execute_process(COMMAND git checkout master WORKING_DIRECTORY ${CMAKE_SOURCE_DIR}\\/3rdparty\\/caffe)/execute_process(COMMAND git checkout f019d0dfe86f49d1140961f8c7dec22130c83154 WORKING_DIRECTORY ${CMAKE_SOURCE_DIR}\\/3rdparty\\/caffe)/g' openpose/CMakeLists.txt\n",
        "  # install system dependencies\n",
        "  !apt-get -qq install -y libatlas-base-dev libprotobuf-dev libleveldb-dev libsnappy-dev libhdf5-serial-dev protobuf-compiler libgflags-dev libgoogle-glog-dev liblmdb-dev opencl-headers ocl-icd-opencl-dev libviennacl-dev\n",
        "  # install python dependencies\n",
        "# build openpose\n",
        "!cd openpose && rm -rf build || true && mkdir build && cd build && cmake .. && make -j`nproc`"
      ],
      "metadata": {
        "id": "xq4gmGrmkQN-"
      },
      "execution_count": null,
      "outputs": []
    },
    {
      "cell_type": "code",
      "source": [
        "openpose_path = '/content/drive/MyDrive/ColabNotebooks/python_env/openpose'\n",
        "# !mv openpose '{openpose_path}'\n",
        "# # openpose 사용법 예시\n",
        "# !cd openpose && ./build/examples/openpose/openpose.bin --video ../video.mp4 --write_json ./output/ --display 0  --write_video ../openpose.avi\n",
        "# # convert the result into MP4\n",
        "# !ffmpeg -y -loglevel info -i openpose.avi output.mp4"
      ],
      "metadata": {
        "id": "QeiQ2M_Bl1Ct"
      },
      "execution_count": 19,
      "outputs": []
    },
    {
      "cell_type": "code",
      "source": [
        "!apt-get -qq install -y libatlas-base-dev libprotobuf-dev libleveldb-dev libsnappy-dev libhdf5-serial-dev protobuf-compiler libgflags-dev libgoogle-glog-dev liblmdb-dev opencl-headers ocl-icd-opencl-dev libviennacl-dev"
      ],
      "metadata": {
        "colab": {
          "base_uri": "https://localhost:8080/"
        },
        "id": "6MSrSVlaBh9g",
        "outputId": "db47d1d3-466d-4935-a3e5-2e55141fa730"
      },
      "execution_count": 11,
      "outputs": [
        {
          "output_type": "stream",
          "name": "stdout",
          "text": [
            "Selecting previously unselected package liblmdb0:amd64.\n",
            "(Reading database ... 120882 files and directories currently installed.)\n",
            "Preparing to unpack .../00-liblmdb0_0.9.24-1build2_amd64.deb ...\n",
            "Unpacking liblmdb0:amd64 (0.9.24-1build2) ...\n",
            "Selecting previously unselected package libgflags2.2.\n",
            "Preparing to unpack .../01-libgflags2.2_2.2.2-2_amd64.deb ...\n",
            "Unpacking libgflags2.2 (2.2.2-2) ...\n",
            "Selecting previously unselected package libgflags-dev.\n",
            "Preparing to unpack .../02-libgflags-dev_2.2.2-2_amd64.deb ...\n",
            "Unpacking libgflags-dev (2.2.2-2) ...\n",
            "Selecting previously unselected package libgoogle-glog0v5.\n",
            "Preparing to unpack .../03-libgoogle-glog0v5_0.5.0+really0.4.0-2_amd64.deb ...\n",
            "Unpacking libgoogle-glog0v5 (0.5.0+really0.4.0-2) ...\n",
            "Selecting previously unselected package libunwind-dev:amd64.\n",
            "Preparing to unpack .../04-libunwind-dev_1.3.2-2build2.1_amd64.deb ...\n",
            "Unpacking libunwind-dev:amd64 (1.3.2-2build2.1) ...\n",
            "Selecting previously unselected package libgoogle-glog-dev.\n",
            "Preparing to unpack .../05-libgoogle-glog-dev_0.5.0+really0.4.0-2_amd64.deb ...\n",
            "Unpacking libgoogle-glog-dev (0.5.0+really0.4.0-2) ...\n",
            "Selecting previously unselected package libleveldb1d:amd64.\n",
            "Preparing to unpack .../06-libleveldb1d_1.23-3build1_amd64.deb ...\n",
            "Unpacking libleveldb1d:amd64 (1.23-3build1) ...\n",
            "Selecting previously unselected package libleveldb-dev:amd64.\n",
            "Preparing to unpack .../07-libleveldb-dev_1.23-3build1_amd64.deb ...\n",
            "Unpacking libleveldb-dev:amd64 (1.23-3build1) ...\n",
            "Selecting previously unselected package liblmdb-dev:amd64.\n",
            "Preparing to unpack .../08-liblmdb-dev_0.9.24-1build2_amd64.deb ...\n",
            "Unpacking liblmdb-dev:amd64 (0.9.24-1build2) ...\n",
            "Selecting previously unselected package libprotobuf-lite23:amd64.\n",
            "Preparing to unpack .../09-libprotobuf-lite23_3.12.4-1ubuntu7.22.04.1_amd64.deb ...\n",
            "Unpacking libprotobuf-lite23:amd64 (3.12.4-1ubuntu7.22.04.1) ...\n",
            "Selecting previously unselected package lmdb-doc.\n",
            "Preparing to unpack .../10-lmdb-doc_0.9.24-1build2_all.deb ...\n",
            "Unpacking lmdb-doc (0.9.24-1build2) ...\n",
            "Selecting previously unselected package libprotobuf-dev:amd64.\n",
            "Preparing to unpack .../11-libprotobuf-dev_3.12.4-1ubuntu7.22.04.1_amd64.deb ...\n",
            "Unpacking libprotobuf-dev:amd64 (3.12.4-1ubuntu7.22.04.1) ...\n",
            "Selecting previously unselected package libsnappy-dev:amd64.\n",
            "Preparing to unpack .../12-libsnappy-dev_1.1.8-1build3_amd64.deb ...\n",
            "Unpacking libsnappy-dev:amd64 (1.1.8-1build3) ...\n",
            "Selecting previously unselected package libviennacl-dev.\n",
            "Preparing to unpack .../13-libviennacl-dev_1.7.1+dfsg1-6_all.deb ...\n",
            "Unpacking libviennacl-dev (1.7.1+dfsg1-6) ...\n",
            "Selecting previously unselected package opencl-headers.\n",
            "Preparing to unpack .../14-opencl-headers_3.0~2022.01.04-1_all.deb ...\n",
            "Unpacking opencl-headers (3.0~2022.01.04-1) ...\n",
            "Setting up liblmdb0:amd64 (0.9.24-1build2) ...\n",
            "Setting up libleveldb1d:amd64 (1.23-3build1) ...\n",
            "Setting up libunwind-dev:amd64 (1.3.2-2build2.1) ...\n",
            "Setting up libleveldb-dev:amd64 (1.23-3build1) ...\n",
            "Setting up libsnappy-dev:amd64 (1.1.8-1build3) ...\n",
            "Setting up opencl-headers (3.0~2022.01.04-1) ...\n",
            "Setting up libprotobuf-lite23:amd64 (3.12.4-1ubuntu7.22.04.1) ...\n",
            "Setting up lmdb-doc (0.9.24-1build2) ...\n",
            "Setting up liblmdb-dev:amd64 (0.9.24-1build2) ...\n",
            "Setting up libviennacl-dev (1.7.1+dfsg1-6) ...\n",
            "Setting up libgflags2.2 (2.2.2-2) ...\n",
            "Setting up libprotobuf-dev:amd64 (3.12.4-1ubuntu7.22.04.1) ...\n",
            "Setting up libgflags-dev (2.2.2-2) ...\n",
            "Setting up libgoogle-glog0v5 (0.5.0+really0.4.0-2) ...\n",
            "Setting up libgoogle-glog-dev (0.5.0+really0.4.0-2) ...\n",
            "Processing triggers for man-db (2.10.2-1) ...\n",
            "Processing triggers for libc-bin (2.35-0ubuntu3.4) ...\n",
            "/sbin/ldconfig.real: /usr/local/lib/libtbbbind_2_0.so.3 is not a symbolic link\n",
            "\n",
            "/sbin/ldconfig.real: /usr/local/lib/libtbbbind.so.3 is not a symbolic link\n",
            "\n",
            "/sbin/ldconfig.real: /usr/local/lib/libtbb.so.12 is not a symbolic link\n",
            "\n",
            "/sbin/ldconfig.real: /usr/local/lib/libtbbbind_2_5.so.3 is not a symbolic link\n",
            "\n",
            "/sbin/ldconfig.real: /usr/local/lib/libtbbmalloc_proxy.so.2 is not a symbolic link\n",
            "\n",
            "/sbin/ldconfig.real: /usr/local/lib/libtbbmalloc.so.2 is not a symbolic link\n",
            "\n"
          ]
        }
      ]
    },
    {
      "cell_type": "code",
      "source": [
        "!export DISPLAY=:0.0\n",
        "!cd '{openpose_path}' && ./build/examples/openpose/openpose.bin --help"
      ],
      "metadata": {
        "colab": {
          "base_uri": "https://localhost:8080/"
        },
        "id": "KJJ1mbC5J13F",
        "outputId": "f1546d15-4dd0-4360-a460-0d7cdc6ecfdc"
      },
      "execution_count": 20,
      "outputs": [
        {
          "output_type": "stream",
          "name": "stdout",
          "text": [
            "openpose.bin: Warning: SetUsageMessage() never called\n",
            "\n",
            "  Flags from ./src/logging.cc:\n",
            "    -alsologtoemail (log messages go to these email addresses in addition to\n",
            "      logfiles) type: string default: \"\"\n",
            "    -alsologtostderr (log messages go to stderr in addition to logfiles)\n",
            "      type: bool default: false\n",
            "    -colorlogtostderr (color messages logged to stderr (if supported by\n",
            "      terminal)) type: bool default: false\n",
            "    -drop_log_memory (Drop in-memory buffers of log contents. Logs can grow\n",
            "      very quickly and they are rarely read before they need to be evicted from\n",
            "      memory. Instead, drop them from memory as soon as they are flushed to\n",
            "      disk.) type: bool default: true\n",
            "    -log_backtrace_at (Emit a backtrace when logging at file:linenum.)\n",
            "      type: string default: \"\"\n",
            "    -log_dir (If specified, logfiles are written into this directory instead of\n",
            "      the default logging directory.) type: string default: \"\"\n",
            "    -log_link (Put additional links to the log files in this directory)\n",
            "      type: string default: \"\"\n",
            "    -log_prefix (Prepend the log prefix to the start of each log line)\n",
            "      type: bool default: true\n",
            "    -logbuflevel (Buffer log messages logged at this level or lower (-1 means\n",
            "      don't buffer; 0 means buffer INFO only; ...)) type: int32 default: 0\n",
            "    -logbufsecs (Buffer log messages for at most this many seconds) type: int32\n",
            "      default: 30\n",
            "    -logemaillevel (Email log messages logged at this level or higher (0 means\n",
            "      email all; 3 means email FATAL only; ...)) type: int32 default: 999\n",
            "    -logfile_mode (Log file mode/permissions.) type: int32 default: 436\n",
            "    -logmailer (Mailer used to send logging email) type: string\n",
            "      default: \"/bin/mail\"\n",
            "    -logtostderr (log messages go to stderr instead of logfiles) type: bool\n",
            "      default: false\n",
            "    -max_log_size (approx. maximum log file size (in MB). A value of 0 will be\n",
            "      silently overridden to 1.) type: int32 default: 1800\n",
            "    -minloglevel (Messages logged at a lower level than this don't actually get\n",
            "      logged anywhere) type: int32 default: 0\n",
            "    -stderrthreshold (log messages at or above this level are copied to stderr\n",
            "      in addition to logfiles.  This flag obsoletes --alsologtostderr.)\n",
            "      type: int32 default: 2\n",
            "    -stop_logging_if_full_disk (Stop attempting to log to disk if the disk is\n",
            "      full.) type: bool default: false\n",
            "\n",
            "  Flags from ./src/utilities.cc:\n",
            "    -symbolize_stacktrace (Symbolize the stack trace in the tombstone)\n",
            "      type: bool default: true\n",
            "\n",
            "  Flags from ./src/vlog_is_on.cc:\n",
            "    -v (Show all VLOG(m) messages for m <= this. Overridable by --vmodule.)\n",
            "      type: int32 default: 0\n",
            "    -vmodule (per-module verbose level. Argument is a comma-separated list of\n",
            "      <module name>=<log level>. <module name> is a glob pattern, matched\n",
            "      against the filename base (that is, name ignoring .cc/.h./-inl.h). <log\n",
            "      level> overrides any value given by --v.) type: string default: \"\"\n",
            "\n",
            "\n",
            "\n",
            "  Flags from /build/gflags-WDCpEz/gflags-2.2.2/src/gflags.cc:\n",
            "    -flagfile (load flags from file) type: string default: \"\"\n",
            "    -fromenv (set flags from the environment [use 'export FLAGS_flag1=value'])\n",
            "      type: string default: \"\"\n",
            "    -tryfromenv (set flags from the environment if present) type: string\n",
            "      default: \"\"\n",
            "    -undefok (comma-separated list of flag names that it is okay to specify on\n",
            "      the command line even if the program does not define a flag with that\n",
            "      name.  IMPORTANT: flags in this list that have arguments MUST use the\n",
            "      flag=value format) type: string default: \"\"\n",
            "\n",
            "  Flags from /build/gflags-WDCpEz/gflags-2.2.2/src/gflags_completions.cc:\n",
            "    -tab_completion_columns (Number of columns to use in output for tab\n",
            "      completion) type: int32 default: 80\n",
            "    -tab_completion_word (If non-empty, HandleCommandLineCompletions() will\n",
            "      hijack the process and attempt to do bash-style command line flag\n",
            "      completion on this value.) type: string default: \"\"\n",
            "\n",
            "  Flags from /build/gflags-WDCpEz/gflags-2.2.2/src/gflags_reporting.cc:\n",
            "    -help (show help on all flags [tip: all flags can have two dashes])\n",
            "      type: bool default: false currently: true\n",
            "    -helpfull (show help on all flags -- same as -help) type: bool\n",
            "      default: false\n",
            "    -helpmatch (show help on modules whose name contains the specified substr)\n",
            "      type: string default: \"\"\n",
            "    -helpon (show help on the modules named by this flag value) type: string\n",
            "      default: \"\"\n",
            "    -helppackage (show help on all modules in the main package) type: bool\n",
            "      default: false\n",
            "    -helpshort (show help on only the main module for this program) type: bool\n",
            "      default: false\n",
            "    -helpxml (produce an xml version of help) type: bool default: false\n",
            "    -version (show version and build info and exit) type: bool default: false\n",
            "\n",
            "\n",
            "\n",
            "  Flags from /content/openpose/include/openpose/flags.hpp:\n",
            "    -3d (Running OpenPose 3-D reconstruction demo: 1) Reading from a stereo\n",
            "      camera system. 2) Performing 3-D reconstruction from the multiple views.\n",
            "      3) Displaying 3-D reconstruction results. Note that it will only display\n",
            "      1 person. If multiple people is present, it will fail.) type: bool\n",
            "      default: false\n",
            "    -3d_min_views (Minimum number of views required to reconstruct each\n",
            "      keypoint. By default (-1), it will require max(2, min(4, #cameras-1))\n",
            "      cameras to see the keypoint in order to reconstruct it.) type: int32\n",
            "      default: -1\n",
            "    -3d_views (Complementary option for `--image_dir` or `--video`. OpenPose\n",
            "      will read as many images per iteration, allowing tasks such as stereo\n",
            "      camera processing (`--3d`). Note that `--camera_parameter_path` must be\n",
            "      set. OpenPose must find as many `xml` files in the parameter folder as\n",
            "      this number indicates.) type: int32 default: -1\n",
            "    -alpha_heatmap (Blending factor (range 0-1) between heatmap and original\n",
            "      frame. 1 will only show the heatmap, 0 will only show the frame. Only\n",
            "      valid for GPU rendering.) type: double default: 0.69999999999999996\n",
            "    -alpha_pose (Blending factor (range 0-1) for the body part rendering. 1\n",
            "      will show it completely, 0 will hide it. Only valid for GPU rendering.)\n",
            "      type: double default: 0.59999999999999998\n",
            "    -body (Select 0 to disable body keypoint detection (e.g., for faster but\n",
            "      less accurate face keypoint detection, custom hand detector, etc.), 1\n",
            "      (default) for body keypoint estimation, and 2 to disable its internal\n",
            "      body pose estimation network but still still run the greedy association\n",
            "      parsing algorithm) type: int32 default: 1\n",
            "    -caffemodel_path (The combination `--model_folder` + `--caffemodel_path`\n",
            "      represents the whole path to the caffemodel file. If empty, it will use\n",
            "      the default OpenPose CaffeModel file.) type: string default: \"\"\n",
            "    -camera (The camera index for cv::VideoCapture. Integer in the range [0,\n",
            "      9]. Select a negative number (by default), to auto-detect and open the\n",
            "      first available camera.) type: int32 default: -1\n",
            "    -camera_parameter_path (String with the folder where the camera parameters\n",
            "      are located. If there is only 1 XML file (for single video, webcam, or\n",
            "      images from the same camera), you must specify the whole XML file path\n",
            "      (ending in .xml).) type: string default: \"models/cameraParameters/flir/\"\n",
            "    -camera_resolution (Set the camera resolution (either `--camera` or\n",
            "      `--flir_camera`). `-1x-1` will use the default 1280x720 for `--camera`,\n",
            "      or the maximum flir camera resolution available for `--flir_camera`)\n",
            "      type: string default: \"-1x-1\"\n",
            "    -cli_verbose (If -1, it will be disabled (default). If it is a positive\n",
            "      integer number, it will print on the command line every `verbose` frames.\n",
            "      If number in the range (0,1), it will print the progress every `verbose`\n",
            "      times the total of frames.) type: double default: -1\n",
            "    -disable_blending (If enabled, it will render the results (keypoint\n",
            "      skeletons or heatmaps) on a black background, instead of being rendered\n",
            "      into the original image. Related: `part_to_show`, `alpha_pose`, and\n",
            "      `alpha_pose`.) type: bool default: false\n",
            "    -disable_multi_thread (It would slightly reduce the frame rate in order to\n",
            "      highly reduce the lag. Mainly useful for 1) Cases where it is needed a\n",
            "      low latency (e.g., webcam in real-time scenarios with low-range GPU\n",
            "      devices); and 2) Debugging OpenPose when it is crashing to locate the\n",
            "      error.) type: bool default: false\n",
            "    -display (Display mode: -1 for automatic selection; 0 for no display\n",
            "      (useful if there is no X server and/or to slightly speed up the\n",
            "      processing if visual output is not required); 2 for 2-D display; 3 for\n",
            "      3-D display (if `--3d` enabled); and 1 for both 2-D and 3-D display.)\n",
            "      type: int32 default: -1\n",
            "    -face (Enables face keypoint detection. It will share some parameters from\n",
            "      the body pose, e.g. `model_folder`. Note that this will considerable slow\n",
            "      down the performance and increase the required GPU memory. In addition,\n",
            "      the greater number of people on the image, the slower OpenPose will be.)\n",
            "      type: bool default: false\n",
            "    -face_alpha_heatmap (Analogous to `alpha_heatmap` but applied to face.)\n",
            "      type: double default: 0.69999999999999996\n",
            "    -face_alpha_pose (Analogous to `alpha_pose` but applied to face.)\n",
            "      type: double default: 0.59999999999999998\n",
            "    -face_detector (Kind of face rectangle detector. Select 0 (default) to\n",
            "      select OpenPose body detector (most accurate one and fastest one if body\n",
            "      is enabled), 1 to select OpenCV face detector (not implemented for\n",
            "      hands), 2 to indicate that it will be provided by the user, or 3 to also\n",
            "      apply hand tracking (only for hand). Hand tracking might improve hand\n",
            "      keypoint detection for webcam (if the frame rate is high enough, i.e., >7\n",
            "      FPS per GPU) and video. This is not person ID tracking, it simply looks\n",
            "      for hands in positions at which hands were located in previous frames,\n",
            "      but it does not guarantee the same person ID among frames.) type: int32\n",
            "      default: 0\n",
            "    -face_net_resolution (Multiples of 16 and squared. Analogous to\n",
            "      `net_resolution` but applied to the face keypoint detector. 320x320\n",
            "      usually works fine while giving a substantial speed up when multiple\n",
            "      faces on the image.) type: string default: \"368x368\"\n",
            "    -face_render (Analogous to `render_pose` but applied to the face. Extra\n",
            "      option: -1 to use the same configuration that `render_pose` is using.)\n",
            "      type: int32 default: -1\n",
            "    -face_render_threshold (Analogous to `render_threshold`, but applied to the\n",
            "      face keypoints.) type: double default: 0.40000000000000002\n",
            "    -flir_camera (Whether to use FLIR (Point-Grey) stereo camera.) type: bool\n",
            "      default: false\n",
            "    -flir_camera_index (Select -1 (default) to run on all detected flir cameras\n",
            "      at once. Otherwise, select the flir camera index to run, where 0\n",
            "      corresponds to the detected flir camera with the lowest serial number,\n",
            "      and `n` to the `n`-th lowest serial number camera.) type: int32\n",
            "      default: -1\n",
            "    -fps_max (Maximum processing frame rate. By default (-1), OpenPose will\n",
            "      process frames as fast as possible. Example usage: If OpenPose is\n",
            "      displaying images too quickly, this can reduce the speed so the user can\n",
            "      analyze better each frame from the GUI.) type: double default: -1\n",
            "    -frame_first (Start on desired frame number. Indexes are 0-based, i.e., the\n",
            "      first frame has index 0.) type: uint64 default: 0\n",
            "    -frame_flip (Flip/mirror each frame (e.g., for real time webcam\n",
            "      demonstrations).) type: bool default: false\n",
            "    -frame_last (Finish on desired frame number. Select -1 to disable. Indexes\n",
            "      are 0-based, e.g., if set to 10, it will process 11 frames (0-10).)\n",
            "      type: uint64 default: 18446744073709551615\n",
            "    -frame_rotate (Rotate each frame, 4 possible values: 0, 90, 180, 270.)\n",
            "      type: int32 default: 0\n",
            "    -frame_step (Step or gap between processed frames. E.g., `--frame_step 5`\n",
            "      would read and process frames 0, 5, 10, etc..) type: uint64 default: 1\n",
            "    -frame_undistort (If false (default), it will not undistort the image, if\n",
            "      true, it will undistortionate them based on the camera parameters found\n",
            "      in `camera_parameter_path`) type: bool default: false\n",
            "    -frames_repeat (Repeat frames when finished.) type: bool default: false\n",
            "    -fullscreen (Run in full-screen mode (press f during runtime to toggle).)\n",
            "      type: bool default: false\n",
            "    -hand (Enables hand keypoint detection. It will share some parameters from\n",
            "      the body pose, e.g. `model_folder`. Analogously to `--face`, it will also\n",
            "      slow down the performance, increase the required GPU memory and its speed\n",
            "      depends on the number of people.) type: bool default: false\n",
            "    -hand_alpha_heatmap (Analogous to `alpha_heatmap` but applied to hand.)\n",
            "      type: double default: 0.69999999999999996\n",
            "    -hand_alpha_pose (Analogous to `alpha_pose` but applied to hand.)\n",
            "      type: double default: 0.59999999999999998\n",
            "    -hand_detector (Kind of hand rectangle detector. Analogous to\n",
            "      `--face_detector`.) type: int32 default: 0\n",
            "    -hand_net_resolution (Multiples of 16 and squared. Analogous to\n",
            "      `net_resolution` but applied to the hand keypoint detector.) type: string\n",
            "      default: \"368x368\"\n",
            "    -hand_render (Analogous to `render_pose` but applied to the hand. Extra\n",
            "      option: -1 to use the same configuration that `render_pose` is using.)\n",
            "      type: int32 default: -1\n",
            "    -hand_render_threshold (Analogous to `render_threshold`, but applied to the\n",
            "      hand keypoints.) type: double default: 0.20000000000000001\n",
            "    -hand_scale_number (Analogous to `scale_number` but applied to the hand\n",
            "      keypoint detector. Our best results were found with `hand_scale_number` =\n",
            "      6 and `hand_scale_range` = 0.4.) type: int32 default: 1\n",
            "    -hand_scale_range (Analogous purpose than `scale_gap` but applied to the\n",
            "      hand keypoint detector. Total range between smallest and biggest scale.\n",
            "      The scales will be centered in ratio 1. E.g., if scaleRange = 0.4 and\n",
            "      scalesNumber = 2, then there will be 2 scales, 0.8 and 1.2.) type: double\n",
            "      default: 0.40000000000000002\n",
            "    -heatmaps_add_PAFs (Same functionality as `add_heatmaps_parts`, but adding\n",
            "      the PAFs.) type: bool default: false\n",
            "    -heatmaps_add_bkg (Same functionality as `add_heatmaps_parts`, but adding\n",
            "      the heatmap corresponding to background.) type: bool default: false\n",
            "    -heatmaps_add_parts (If true, it will fill op::Datum::poseHeatMaps array\n",
            "      with the body part heatmaps, and analogously face & hand heatmaps to\n",
            "      op::Datum::faceHeatMaps & op::Datum::handHeatMaps. If more than one\n",
            "      `add_heatmaps_X` flag is enabled, it will place then in sequential memory\n",
            "      order: body parts + bkg + PAFs. It will follow the order on\n",
            "      POSE_BODY_PART_MAPPING in `src/openpose/pose/poseParameters.cpp`. Program\n",
            "      speed will considerably decrease. Not required for OpenPose, enable it\n",
            "      only if you intend to explicitly use this information later.) type: bool\n",
            "      default: false\n",
            "    -heatmaps_scale (Set 0 to scale op::Datum::poseHeatMaps in the range\n",
            "      [-1,1], 1 for [0,1]; 2 for integer rounded [0,255]; and 3 for no\n",
            "      scaling.) type: int32 default: 2\n",
            "    -identification (Experimental, not available yet. Whether to enable people\n",
            "      identification across frames.) type: bool default: false\n",
            "    -ik_threads (Experimental, not available yet. Whether to enable inverse\n",
            "      kinematics (IK) from 3-D keypoints to obtain 3-D joint angles. By default\n",
            "      (0 threads), it is disabled. Increasing the number of threads will\n",
            "      increase the speed but also the global system latency.) type: int32\n",
            "      default: 0\n",
            "    -image_dir (Process a directory of images. Use `examples/media/` for our\n",
            "      default example folder with 20 images. Read all standard formats (jpg,\n",
            "      png, bmp, etc.).) type: string default: \"\"\n",
            "    -ip_camera (String with the IP camera URL. It supports protocols like RTSP\n",
            "      and HTTP.) type: string default: \"\"\n",
            "    -keypoint_scale (Scaling of the (x,y) coordinates of the final pose data\n",
            "      array, i.e., the scale of the (x,y) coordinates that will be saved with\n",
            "      the `write_json` & `write_keypoint` flags. Select `0` to scale it to the\n",
            "      original source resolution; `1`to scale it to the net output size (set\n",
            "      with `net_resolution`); `2` to scale it to the final output size (set\n",
            "      with `resolution`); `3` to scale it in the range [0,1], where (0,0) would\n",
            "      be the top-left corner of the image, and (1,1) the bottom-right one; and\n",
            "      4 for range [-1,1], where (-1,-1) would be the top-left corner of the\n",
            "      image, and (1,1) the bottom-right one. Non related with `scale_number`\n",
            "      and `scale_gap`.) type: int32 default: 0\n",
            "    -logging_level (The logging level. Integer in the range [0, 255]. 0 will\n",
            "      output any opLog() message, while 255 will not output any. Current\n",
            "      OpenPose library messages are in the range 0-4: 1 for low priority\n",
            "      messages and 4 for important ones.) type: int32 default: 3\n",
            "    -maximize_positives (It reduces the thresholds to accept a person\n",
            "      candidate. It highly increases both false and true positives. I.e., it\n",
            "      maximizes average recall but could harm average precision.) type: bool\n",
            "      default: false\n",
            "    -model_folder (Folder path (absolute or relative) where the models (pose,\n",
            "      face, ...) are located.) type: string default: \"models/\"\n",
            "    -model_pose (Model to be used. E.g., `BODY_25` (fastest for CUDA version,\n",
            "      most accurate, and includes foot keypoints), `COCO` (18 keypoints), `MPI`\n",
            "      (15 keypoints, least accurate model but fastest on CPU), `MPI_4_layers`\n",
            "      (15 keypoints, even faster but less accurate).) type: string\n",
            "      default: \"BODY_25\"\n",
            "    -net_resolution (Multiples of 16. If it is increased, the accuracy\n",
            "      potentially increases. If it is decreased, the speed increases. For\n",
            "      maximum speed-accuracy balance, it should keep the closest aspect ratio\n",
            "      possible to the images or videos to be processed. Using `-1` in any of\n",
            "      the dimensions, OP will choose the optimal aspect ratio depending on the\n",
            "      user's input value. E.g., the default `-1x368` is equivalent to `656x368`\n",
            "      in 16:9 resolutions, e.g., full HD (1980x1080) and HD (1280x720)\n",
            "      resolutions.) type: string default: \"-1x368\"\n",
            "    -net_resolution_dynamic (This flag only applies to images or custom inputs\n",
            "      (not to video or webcam). If it is zero or a negative value, it means\n",
            "      that using `-1` in `net_resolution` will behave as explained in its\n",
            "      description. Otherwise, and to avoid out of memory errors, the `-1` in\n",
            "      `net_resolution` will clip to this value times the default 16/9 aspect\n",
            "      ratio value (which is 656 width for a 368 height). E.g.,\n",
            "      `net_resolution_dynamic 10 net_resolution -1x368` will clip to 6560x368\n",
            "      (10 x 656). Recommended 1 for small GPUs (to avoid out of memory errors\n",
            "      but maximize speed) and 0 for big GPUs (for maximum accuracy and speed).)\n",
            "      type: double default: 1\n",
            "    -no_gui_verbose (Do not write text on output images on GUI (e.g., number of\n",
            "      current frame and people). It does not affect the pose rendering.)\n",
            "      type: bool default: false\n",
            "    -num_gpu (The number of GPU devices to use. If negative, it will use all\n",
            "      the available GPUs in your machine.) type: int32 default: -1\n",
            "    -num_gpu_start (GPU device start number.) type: int32 default: 0\n",
            "    -number_people_max (This parameter will limit the maximum number of people\n",
            "      detected, by keeping the people with top scores. The score is based in\n",
            "      person area over the image, body part score, as well as joint score\n",
            "      (between each pair of connected body parts). Useful if you know the exact\n",
            "      number of people in the scene, so it can remove false positives (if all\n",
            "      the people have been detected. However, it might also include false\n",
            "      negatives by removing very small or highly occluded people. -1 will keep\n",
            "      them all.) type: int32 default: -1\n",
            "    -output_resolution (The image resolution (display and output). Use \"-1x-1\"\n",
            "      to force the program to use the input image resolution.) type: string\n",
            "      default: \"-1x-1\"\n",
            "    -part_candidates (Also enable `write_json` in order to save this\n",
            "      information. If true, it will fill the op::Datum::poseCandidates array\n",
            "      with the body part candidates. Candidates refer to all the detected body\n",
            "      parts, before being assembled into people. Note that the number of\n",
            "      candidates is equal or higher than the number of final body parts (i.e.,\n",
            "      after being assembled into people). The empty body parts are filled with\n",
            "      0s. Program speed will slightly decrease. Not required for OpenPose,\n",
            "      enable it only if you intend to explicitly use this information.)\n",
            "      type: bool default: false\n",
            "    -part_to_show (Prediction channel to visualize: 0 (default) for all the\n",
            "      body parts, 1 for the background heat map, 2 for the superposition of\n",
            "      heatmaps, 3 for the superposition of PAFs, 4-(4+#keypoints) for each body\n",
            "      part heat map, the following ones for each body part pair PAF.)\n",
            "      type: int32 default: 0\n",
            "    -process_real_time (Enable to keep the original source frame rate (e.g.,\n",
            "      for video). If the processing time is too long, it will skip frames. If\n",
            "      it is too fast, it will slow it down.) type: bool default: false\n",
            "    -profile_speed (If PROFILER_ENABLED was set in CMake or Makefile.config\n",
            "      files, OpenPose will show some runtime statistics at this frame number.)\n",
            "      type: int32 default: 1000\n",
            "    -prototxt_path (The combination `--model_folder` + `--prototxt_path`\n",
            "      represents the whole path to the prototxt file. If empty, it will use the\n",
            "      default OpenPose ProtoTxt file.) type: string default: \"\"\n",
            "    -render_pose (Set to 0 for no rendering, 1 for CPU rendering (slightly\n",
            "      faster), and 2 for GPU rendering (slower but greater functionality, e.g.,\n",
            "      `alpha_X` flags). If -1, it will pick CPU if CPU_ONLY is enabled, or GPU\n",
            "      if CUDA is enabled. If rendering is enabled, it will render both\n",
            "      `outputData` and `cvOutputData` with the original image and desired body\n",
            "      part to be shown (i.e., keypoints, heat maps or PAFs).) type: int32\n",
            "      default: -1\n",
            "    -render_threshold (Only estimated keypoints whose score confidences are\n",
            "      higher than this threshold will be rendered. Note: Rendered refers only\n",
            "      to visual display in the OpenPose basic GUI, not in the saved results.\n",
            "      Generally, a high threshold (> 0.5) will only render very clear body\n",
            "      parts; while small thresholds (~0.1) will also output guessed and\n",
            "      occluded keypoints, but also more false positives (i.e., wrong\n",
            "      detections).) type: double default: 0.050000000000000003\n",
            "    -scale_gap (Scale gap between scales. No effect unless scale_number > 1.\n",
            "      Initial scale is always 1. If you want to change the initial scale, you\n",
            "      actually want to multiply the `net_resolution` by your desired initial\n",
            "      scale.) type: double default: 0.25\n",
            "    -scale_number (Number of scales to average.) type: int32 default: 1\n",
            "    -tracking (Experimental, not available yet. Whether to enable people\n",
            "      tracking across frames. The value indicates the number of frames where\n",
            "      tracking is run between each OpenPose keypoint detection. Select -1\n",
            "      (default) to disable it or 0 to run simultaneously OpenPose keypoint\n",
            "      detector and tracking for potentially higher accuracy than only\n",
            "      OpenPose.) type: int32 default: -1\n",
            "    -udp_host (Experimental, not available yet. IP for UDP communication. E.g.,\n",
            "      `192.168.0.1`.) type: string default: \"\"\n",
            "    -udp_port (Experimental, not available yet. Port number for UDP\n",
            "      communication.) type: string default: \"8051\"\n",
            "    -upsampling_ratio (Upsampling ratio between the `net_resolution` and the\n",
            "      output net results. A value less or equal than 0 (default) will use the\n",
            "      network default value (recommended).) type: double default: 0\n",
            "    -video (Use a video file instead of the camera. Use\n",
            "      `examples/media/video.avi` for our default example video.) type: string\n",
            "      default: \"\"\n",
            "    -write_bvh (Experimental, not available yet. E.g.,\n",
            "      `~/Desktop/mocapResult.bvh`.) type: string default: \"\"\n",
            "    -write_coco_json (Full file path to write people pose data with JSON COCO\n",
            "      validation format. If foot, face, hands, etc. JSON is also desired\n",
            "      (`--write_coco_json_variants`), they are saved with different file name\n",
            "      suffix.) type: string default: \"\"\n",
            "    -write_coco_json_variant (Currently, this option is experimental and only\n",
            "      makes effect on car JSON generation. It selects the COCO variant for\n",
            "      cocoJsonSaver.) type: int32 default: 0\n",
            "    -write_coco_json_variants (Add 1 for body, add 2 for foot, 4 for face,\n",
            "      and/or 8 for hands. Use 0 to use all the possible candidates. E.g., 7\n",
            "      would mean body+foot+face COCO JSON.) type: int32 default: 1\n",
            "    -write_heatmaps (Directory to write body pose heatmaps in PNG format. At\n",
            "      least 1 `add_heatmaps_X` flag must be enabled.) type: string default: \"\"\n",
            "    -write_heatmaps_format (File extension and format for `write_heatmaps`,\n",
            "      analogous to `write_images_format`. For lossless compression, recommended\n",
            "      `png` for integer `heatmaps_scale` and `float` for floating values. See\n",
            "      `doc/02_output.md` for more details.) type: string default: \"png\"\n",
            "    -write_images (Directory to write rendered frames in `write_images_format`\n",
            "      image format.) type: string default: \"\"\n",
            "    -write_images_format (File extension and format for `write_images`, e.g.,\n",
            "      png, jpg or bmp. Check the OpenCV function cv::imwrite for all compatible\n",
            "      extensions.) type: string default: \"png\"\n",
            "    -write_json (Directory to write OpenPose output in JSON format. It includes\n",
            "      body, hand, and face pose keypoints (2-D and 3-D), as well as pose\n",
            "      candidates (if `--part_candidates` enabled).) type: string default: \"\"\n",
            "    -write_keypoint ((Deprecated, use `write_json`) Directory to write the\n",
            "      people pose keypoint data. Set format with `write_keypoint_format`.)\n",
            "      type: string default: \"\"\n",
            "    -write_keypoint_format ((Deprecated, use `write_json`) File extension and\n",
            "      format for `write_keypoint`: json, xml, yaml & yml. Json not available\n",
            "      for OpenCV < 3.0, use `write_json` instead.) type: string default: \"yml\"\n",
            "    -write_video (Full file path to write rendered frames in motion JPEG video\n",
            "      format. It might fail if the final path does not finish in `.avi`. It\n",
            "      internally uses cv::VideoWriter. Flag `write_video_fps` controls FPS.\n",
            "      Alternatively, the video extension can be `.mp4`, resulting in a file\n",
            "      with a much smaller size and allowing `--write_video_with_audio`.\n",
            "      However, that would require: 1) Ubuntu or Mac system, 2) FFmpeg library\n",
            "      installed (`sudo apt-get install ffmpeg`), 3) the creation temporarily of\n",
            "      a folder with the same file path than the final video (without the\n",
            "      extension) to storage the intermediate frames that will later be used to\n",
            "      generate the final MP4 video.) type: string default: \"\"\n",
            "    -write_video_3d (Analogous to `--write_video`, but applied to the 3D\n",
            "      output.) type: string default: \"\"\n",
            "    -write_video_adam (Experimental, not available yet. Analogous to\n",
            "      `--write_video`, but applied to Adam model.) type: string default: \"\"\n",
            "    -write_video_fps (Frame rate for the recorded video. By default, it will\n",
            "      try to get the input frames producer frame rate (e.g., input video or\n",
            "      webcam frame rate). If the input frames producer does not have a set FPS\n",
            "      (e.g., image_dir or webcam if OpenCV not compiled with its support), set\n",
            "      this value accordingly (e.g., to the frame rate displayed by the OpenPose\n",
            "      GUI).) type: double default: -1\n",
            "    -write_video_with_audio (If the input is video and the output is so too, it\n",
            "      will save the video with audio. It requires the output video file path\n",
            "      finishing in `.mp4` format (see `write_video` for details).) type: bool\n",
            "      default: false\n"
          ]
        }
      ]
    },
    {
      "cell_type": "code",
      "source": [
        "# prepare to use openpose\n",
        "img_input = '/content/drive/MyDrive/datasets/ladi_data/image/'\n",
        "img_output = '/content/drive/MyDrive/datasets/ladi_data/openpose_img/'\n",
        "json_output = '/content/drive/MyDrive/datasets/ladi_data/openpose_json/'\n",
        "caffemodel_path = 'pose/coco/pose_iter_440000.caffemodel'\n",
        "openpose_path = \"/content/drive/MyDrive/ColabNotebooks/python_env/openpose/\"\n",
        "\n",
        "!cp '{openpose_path}'/build/src/openpose/libopenpose.so.1.7.0 /usr/local/lib\n",
        "!cp '{openpose_path}'/build/caffe/lib/libcaffe.so.1.0.0 /usr/local/lib\n",
        "!sudo ldconfig\n",
        "\n",
        "!chmod +x '{openpose_path}/build/examples/openpose/openpose.bin'\n",
        "\n",
        "!cd \"/content/drive/MyDrive/ColabNotebooks/python_env/openpose/\" && ./build/examples/openpose/openpose.bin --model_pose COCO --caffemodel_path '{caffemodel_path}' --display 0 --disable_blending --image_dir '{img_input}' --write_json '{json_output}' --write_images '{img_output}'"
      ],
      "metadata": {
        "colab": {
          "base_uri": "https://localhost:8080/"
        },
        "id": "LvY1c_Ug8_Lo",
        "outputId": "73b9454b-5561-4e65-e8c8-1fabdd8c68e6"
      },
      "execution_count": 25,
      "outputs": [
        {
          "output_type": "stream",
          "name": "stdout",
          "text": [
            "/sbin/ldconfig.real: /usr/local/lib/libtbbbind_2_0.so.3 is not a symbolic link\n",
            "\n",
            "/sbin/ldconfig.real: /usr/local/lib/libtbbbind.so.3 is not a symbolic link\n",
            "\n",
            "/sbin/ldconfig.real: /usr/local/lib/libtbb.so.12 is not a symbolic link\n",
            "\n",
            "/sbin/ldconfig.real: /usr/local/lib/libtbbbind_2_5.so.3 is not a symbolic link\n",
            "\n",
            "/sbin/ldconfig.real: /usr/local/lib/libtbbmalloc_proxy.so.2 is not a symbolic link\n",
            "\n",
            "/sbin/ldconfig.real: /usr/local/lib/libtbbmalloc.so.2 is not a symbolic link\n",
            "\n",
            "Starting OpenPose demo...\n",
            "Configuring OpenPose...\n",
            "Starting thread(s)...\n",
            "Auto-detecting all available GPUs... Detected 1 GPU(s), using 1 of them starting at GPU 0.\n",
            "F1115 15:23:24.691458  6431 cudnn_conv_layer.cpp:53] Check failed: status == CUDNN_STATUS_SUCCESS (1 vs. 0)  CUDNN_STATUS_NOT_INITIALIZED\n",
            "*** Check failure stack trace: ***\n",
            "    @     0x79ef85603b03  google::LogMessage::Fail()\n",
            "    @     0x79ef8560b9d1  google::LogMessage::SendToLog()\n",
            "    @     0x79ef856037c2  google::LogMessage::Flush()\n",
            "    @     0x79ef8560578f  google::LogMessageFatal::~LogMessageFatal()\n",
            "    @     0x79ef8522e25b  caffe::CuDNNConvolutionLayer<>::LayerSetUp()\n",
            "    @     0x79ef853176cc  caffe::Net<>::Init()\n",
            "    @     0x79ef853195c0  caffe::Net<>::Net()\n",
            "    @     0x79ef85ce73cc  op::NetCaffe::initializationOnThread()\n",
            "    @     0x79ef85d00caf  op::addCaffeNetOnThread()\n",
            "    @     0x79ef85d01f35  op::PoseExtractorCaffe::netInitializationOnThread()\n",
            "    @     0x79ef85d068c6  op::PoseExtractorNet::initializationOnThread()\n",
            "    @     0x79ef85cfe9f7  op::PoseExtractor::initializationOnThread()\n",
            "    @     0x79ef85cfa497  op::WPoseExtractor<>::initializationOnThread()\n",
            "    @     0x79ef85d2eb75  op::Worker<>::initializationOnThreadNoException()\n",
            "    @     0x79ef85d2ece8  op::SubThread<>::initializationOnThread()\n",
            "    @     0x79ef85d306e8  op::Thread<>::initializationOnThread()\n",
            "    @     0x79ef85d32c1c  op::Thread<>::threadFunction()\n",
            "    @     0x79ef8594f253  (unknown)\n",
            "    @     0x79ef856bfac3  (unknown)\n",
            "    @     0x79ef85751a40  (unknown)\n",
            "    @              (nil)  (unknown)\n"
          ]
        }
      ]
    },
    {
      "cell_type": "markdown",
      "source": [
        "## Detectron2 설치"
      ],
      "metadata": {
        "id": "P7bW8plYoKuY"
      }
    },
    {
      "cell_type": "code",
      "source": [
        "# install detectron2\n",
        "\n",
        "!git clone https://github.com/facebookresearch/detectron2.git\n",
        "!pip install -e detectron2 --target=$my_path"
      ],
      "metadata": {
        "id": "jI2N-dxer6qL",
        "colab": {
          "base_uri": "https://localhost:8080/"
        },
        "outputId": "57570937-6fce-4325-fc6a-0887ca0d5b98"
      },
      "execution_count": 18,
      "outputs": [
        {
          "output_type": "stream",
          "name": "stdout",
          "text": [
            "Cloning into 'detectron2'...\n",
            "remote: Enumerating objects: 15280, done.\u001b[K\n",
            "remote: Counting objects: 100% (5/5), done.\u001b[K\n",
            "remote: Compressing objects: 100% (5/5), done.\u001b[K\n",
            "remote: Total 15280 (delta 0), reused 1 (delta 0), pack-reused 15275\u001b[K\n",
            "Receiving objects: 100% (15280/15280), 6.17 MiB | 13.87 MiB/s, done.\n",
            "Resolving deltas: 100% (11115/11115), done.\n",
            "warning: Clone succeeded, but checkout failed.\n",
            "You can inspect what was checked out with 'git status'\n",
            "and retry with 'git restore --source=HEAD :/'\n",
            "\n",
            "^C\n",
            "Obtaining file:///content/drive/MyDrive/ColabNotebooks/python_env/openpose/detectron2\n",
            "\u001b[31mERROR: file:///content/drive/MyDrive/ColabNotebooks/python_env/openpose/detectron2 does not appear to be a Python project: neither 'setup.py' nor 'pyproject.toml' found.\u001b[0m\u001b[31m\n",
            "\u001b[0m"
          ]
        }
      ]
    },
    {
      "cell_type": "markdown",
      "source": [
        "## Human parsing 설치"
      ],
      "metadata": {
        "id": "meP_1aa2oOjE"
      }
    },
    {
      "cell_type": "code",
      "source": [
        "# Prerequisite\n",
        "!pip install -U --no-cache-dir gdown --pre -qq\n",
        "!pip install ninja -qq"
      ],
      "metadata": {
        "colab": {
          "base_uri": "https://localhost:8080/"
        },
        "id": "nEXqtRAgrcDU",
        "outputId": "5f04fc9e-69e0-41db-c8e8-4b1b2589ecad"
      },
      "execution_count": null,
      "outputs": [
        {
          "output_type": "stream",
          "name": "stdout",
          "text": [
            "\u001b[?25l     \u001b[90m━━━━━━━━━━━━━━━━━━━━━━━━━━━━━━━━━━━━━━━━\u001b[0m \u001b[32m0.0/307.2 kB\u001b[0m \u001b[31m?\u001b[0m eta \u001b[36m-:--:--\u001b[0m\r\u001b[2K     \u001b[91m━━━━━━━━━━━━━━━━\u001b[0m\u001b[90m╺\u001b[0m\u001b[90m━━━━━━━━━━━━━━━━━━━━━━━\u001b[0m \u001b[32m122.9/307.2 kB\u001b[0m \u001b[31m3.6 MB/s\u001b[0m eta \u001b[36m0:00:01\u001b[0m\r\u001b[2K     \u001b[90m━━━━━━━━━━━━━━━━━━━━━━━━━━━━━━━━━━━━━━━━\u001b[0m \u001b[32m307.2/307.2 kB\u001b[0m \u001b[31m5.0 MB/s\u001b[0m eta \u001b[36m0:00:00\u001b[0m\n",
            "\u001b[?25h"
          ]
        }
      ]
    },
    {
      "cell_type": "code",
      "source": [
        "# install Self-Correction Human Parsing\n",
        "!git clone https://github.com/GoGoDuck912/Self-Correction-Human-Parsing.git"
      ],
      "metadata": {
        "colab": {
          "base_uri": "https://localhost:8080/",
          "height": 235
        },
        "id": "ficidou1mD3_",
        "outputId": "a9eb6c68-4d9b-4d7d-acec-c13717a28f63"
      },
      "execution_count": null,
      "outputs": [
        {
          "output_type": "stream",
          "name": "stdout",
          "text": [
            "Cloning into 'Self-Correction-Human-Parsing'...\n",
            "remote: Enumerating objects: 719, done.\u001b[K\n",
            "remote: Counting objects: 100% (719/719), done.\u001b[K\n",
            "remote: Compressing objects: 100% (568/568), done.\u001b[K\n",
            "remote: Total 719 (delta 149), reused 610 (delta 140), pack-reused 0\u001b[K\n",
            "Receiving objects: 100% (719/719), 3.88 MiB | 8.51 MiB/s, done.\n",
            "Resolving deltas: 100% (149/149), done.\n"
          ]
        },
        {
          "output_type": "stream",
          "name": "stderr",
          "text": [
            "Downloading...\n",
            "From: https://drive.google.com/uc?id=1k4dllHpu0bdx38J7H28rVVLpU-kOHmnH\n",
            "To: /content/drive/MyDrive/Colab Notebooks/lip_final.pth\n",
            "100%|██████████| 267M/267M [00:02<00:00, 113MB/s]\n"
          ]
        },
        {
          "output_type": "execute_result",
          "data": {
            "text/plain": [
              "'/content/drive/MyDrive/Colab Notebooks/lip_final.pth'"
            ],
            "application/vnd.google.colaboratory.intrinsic+json": {
              "type": "string"
            }
          },
          "metadata": {},
          "execution_count": 4
        }
      ]
    },
    {
      "cell_type": "code",
      "source": [
        "import gdown\n",
        "gdown.download('https://drive.google.com/uc?id=1k4dllHpu0bdx38J7H28rVVLpU-kOHmnH', '/content/drive/MyDrive/Colab Notebooks/lip_final.pth', quiet=False)"
      ],
      "metadata": {
        "id": "98suvU6zrlSu"
      },
      "execution_count": null,
      "outputs": []
    },
    {
      "cell_type": "code",
      "source": [
        "test_imgs = '/content/drive/MyDrive/datasets/ladi_data/image'\n",
        "sorted(os.listdir(test_imgs))"
      ],
      "metadata": {
        "colab": {
          "base_uri": "https://localhost:8080/"
        },
        "id": "p24wAwICocp2",
        "outputId": "945a72ff-fcc3-41ea-b6af-94ed232cb520"
      },
      "execution_count": 9,
      "outputs": [
        {
          "output_type": "execute_result",
          "data": {
            "text/plain": [
              "['00006_00.jpg',\n",
              " '00008_00.jpg의 사본.jpg',\n",
              " '00013_00.jpg의 사본.jpg',\n",
              " '00017_00.jpg의 사본.jpg',\n",
              " '00034_00.jpg의 사본.jpg',\n",
              " '00035_00.jpg의 사본.jpg',\n",
              " '00055_00.jpg의 사본.jpg',\n",
              " '00057_00.jpg의 사본.jpg',\n",
              " '00064_00.jpg의 사본.jpg',\n",
              " '00067_00.jpg의 사본.jpg']"
            ]
          },
          "metadata": {},
          "execution_count": 9
        }
      ]
    },
    {
      "cell_type": "code",
      "source": [
        "from PIL import Image\n",
        "import time\n",
        "\n",
        "checkpoint_path = '/content/drive/MyDrive/ColabNotebooks/lip_final.pth'\n",
        "# img_input = 'Data_preprocessing/test_img/'\n",
        "# img_output = 'Data_preprocessing/test_label/'\n",
        "img_input = '/content/drive/MyDrive/datasets/ladi_data/image/'\n",
        "img_output = '/content/drive/MyDrive/datasets/ladi_data/image-parse-v3/'\n",
        "\n",
        "# img_name = f'img_{int(time.time())}.png'\n",
        "#\n",
        "# img_path = os.path.join(test_imgs, sorted(os.listdir(test_imgs))[0])\n",
        "# img = Image.open(img_path)\n",
        "# img = img.resize((192,256), Image.BICUBIC)\n",
        "\n",
        "# img_path = os.path.join(img_input, img_name)\n",
        "# if not os.path.exists(img_input):\n",
        "#   os.makedirs(img_input)\n",
        "# img.save(img_path)\n",
        "\n",
        "!python3 Self-Correction-Human-Parsing/simple_extractor.py --dataset 'lip' --model-restore '{checkpoint_path}' --input-dir '{img_input}' --output-dir '{img_output}'\n",
        "\n",
        "\n",
        "# pose_path = os.path.join('Data_preprocessing/test_pose', img_name.replace('.png', '_keypoints.json'))"
      ],
      "metadata": {
        "id": "4XUptx_xo6lR"
      },
      "execution_count": null,
      "outputs": []
    },
    {
      "cell_type": "markdown",
      "metadata": {
        "id": "7WJtP2PfBcPN"
      },
      "source": [
        "## Ladi-Vton\n",
        "\n",
        "- Original: https://github.com/miccunifi/ladi-vton"
      ]
    },
    {
      "cell_type": "code",
      "metadata": {
        "id": "GVm5QFBMDBbT",
        "colab": {
          "base_uri": "https://localhost:8080/"
        },
        "outputId": "9e9a2a95-8b05-457b-a712-a338ca9cb9f7"
      },
      "source": [
        "# Settinbg ladi-vton\n",
        "!git clone https://github.com/k1064190/ladi-vton.git\n",
        "\n",
        "\n",
        "# Download model from (https://www.kaggle.com/datasets/changethetuneman/openpose-model/) required\n",
        "!cp '/content/drive/MyDrive/datasets/archive_2/pose_iter_440000.caffemodel' '/content/ladi-vton/pose/'\n",
        "\n",
        "# Dataset\n",
        "dataset_path = \"/content/drive/MyDrive/datasets/ladi-vton/\""
      ],
      "execution_count": 3,
      "outputs": [
        {
          "output_type": "stream",
          "name": "stdout",
          "text": [
            "Cloning into 'ladi-vton'...\n",
            "remote: Enumerating objects: 117, done.\u001b[K\n",
            "remote: Counting objects: 100% (39/39), done.\u001b[K\n",
            "remote: Compressing objects: 100% (19/19), done.\u001b[K\n",
            "remote: Total 117 (delta 27), reused 24 (delta 20), pack-reused 78\u001b[K\n",
            "Receiving objects: 100% (117/117), 1.54 MiB | 15.81 MiB/s, done.\n",
            "Resolving deltas: 100% (44/44), done.\n"
          ]
        }
      ]
    },
    {
      "cell_type": "code",
      "source": [
        "%cd ladi-vton"
      ],
      "metadata": {
        "id": "cQ2W-fKug6yT"
      },
      "execution_count": null,
      "outputs": []
    },
    {
      "cell_type": "code",
      "source": [
        "!git pull\n",
        "\n",
        "from predict_pose import generate_pose_keypoints\n",
        "\n",
        "# prepare to use openpose\n",
        "img_input = '/content/drive/MyDrive/datasets/ladi_data/image/'\n",
        "img_output = '/content/drive/MyDrive/datasets/ladi_data/openpose_img/'\n",
        "json_output = '/content/drive/MyDrive/datasets/ladi_data/openpose_json/'\n",
        "\n",
        "\n",
        "img_name = sorted(os.listdir(img_input))[1]\n",
        "print(img_name)\n",
        "img_path = os.path.join(img_input, img_name)\n",
        "print(img_path)\n",
        "pose_path = os.path.join(json_output, img_name.replace('.jpg', '_keypoints.json'))\n",
        "\n",
        "generate_pose_keypoints(img_path, pose_path)"
      ],
      "metadata": {
        "id": "-SKM0ea1r3qa",
        "colab": {
          "base_uri": "https://localhost:8080/"
        },
        "outputId": "3c0cbf09-f508-4c82-f703-92c9bfac1808"
      },
      "execution_count": 9,
      "outputs": [
        {
          "output_type": "stream",
          "name": "stdout",
          "text": [
            "Already up to date.\n",
            "00008_00.jpg\n",
            "/content/drive/MyDrive/datasets/ladi_data/image/00008_00.jpg\n",
            "File saved at /content/drive/MyDrive/datasets/ladi_data/openpose_json/00008_00_keypoints.json\n"
          ]
        }
      ]
    },
    {
      "cell_type": "markdown",
      "source": [
        "## TODO: predict_pose 한번에 여러 이미지 하도록 수정. 옷 masking"
      ],
      "metadata": {
        "id": "UvfjT88rl0qL"
      }
    },
    {
      "cell_type": "code",
      "source": [
        "!pip install opencv-python==4.7.0.72 diffusers==0.14.0 transformers==4.27.3 accelerate==0.18.0 clean-fid==0.1.35 torchmetrics[image]==0.11.4 wandb==0.14.0 matplotlib==3.7.1 tqdm xformers"
      ],
      "metadata": {
        "id": "V01nshyDUVQe"
      },
      "execution_count": null,
      "outputs": []
    },
    {
      "cell_type": "code",
      "source": [
        "# run inference with prepared data\n",
        "!python src/inference.py --dataset vitonhd --vitonhd_dataroot $dataset_path --output_dir output --test_order unpaired --batch_size 2"
      ],
      "metadata": {
        "id": "eHX9sEanUekV"
      },
      "execution_count": null,
      "outputs": []
    },
    {
      "cell_type": "code",
      "source": [],
      "metadata": {
        "id": "0E5BeWmLmB0B"
      },
      "execution_count": null,
      "outputs": []
    },
    {
      "cell_type": "code",
      "source": [],
      "metadata": {
        "id": "H3iDDb3PmB2P"
      },
      "execution_count": null,
      "outputs": []
    },
    {
      "cell_type": "code",
      "source": [],
      "metadata": {
        "id": "xMZDo0UImB4m"
      },
      "execution_count": null,
      "outputs": []
    },
    {
      "cell_type": "code",
      "source": [],
      "metadata": {
        "id": "wIu9KdNpmB6_"
      },
      "execution_count": null,
      "outputs": []
    },
    {
      "cell_type": "code",
      "source": [],
      "metadata": {
        "id": "CjxhhnQ9mB-U"
      },
      "execution_count": null,
      "outputs": []
    },
    {
      "cell_type": "code",
      "metadata": {
        "id": "86Ll7LIW1kGw"
      },
      "source": [
        "!mkdir Data_preprocessing/test_color\n",
        "!mkdir Data_preprocessing/test_colormask\n",
        "!mkdir Data_preprocessing/test_edge\n",
        "!mkdir Data_preprocessing/test_img\n",
        "!mkdir Data_preprocessing/test_label\n",
        "!mkdir Data_preprocessing/test_mask\n",
        "!mkdir Data_preprocessing/test_pose\n",
        "!mkdir inputs\n",
        "!mkdir inputs/img\n",
        "!mkdir inputs/cloth"
      ],
      "execution_count": null,
      "outputs": []
    },
    {
      "cell_type": "code",
      "metadata": {
        "id": "HbGDB31KrKHV"
      },
      "source": [
        "!git clone https://github.com/levindabhi/Self-Correction-Human-Parsing-for-ACGPN.git\n",
        "!git clone https://github.com/levindabhi/U-2-Net.git"
      ],
      "execution_count": null,
      "outputs": []
    },
    {
      "cell_type": "markdown",
      "source": [
        "## 사전학습 모델 다운로드"
      ],
      "metadata": {
        "id": "vCjptBAJiGrI"
      }
    },
    {
      "cell_type": "markdown",
      "source": [
        "### 포즈 예측 모델"
      ],
      "metadata": {
        "id": "5XNAZwQziKHe"
      }
    },
    {
      "cell_type": "code",
      "metadata": {
        "id": "K8hYM6XqCnxC",
        "colab": {
          "base_uri": "https://localhost:8080/"
        },
        "outputId": "e14c5da0-1082-4aa5-eb6b-0a8d0902e5e8"
      },
      "source": [
        "!gdown 1hOHMFHEjhoJuLEQY0Ndurn5hfiA9mwko -O pose/pose_iter_440000.caffemodel"
      ],
      "execution_count": null,
      "outputs": [
        {
          "output_type": "stream",
          "name": "stdout",
          "text": [
            "Downloading...\n",
            "From: https://drive.google.com/uc?id=1hOHMFHEjhoJuLEQY0Ndurn5hfiA9mwko\n",
            "To: /content/ACGPN/pose/pose_iter_440000.caffemodel\n",
            "100% 209M/209M [00:03<00:00, 54.7MB/s]\n"
          ]
        }
      ]
    },
    {
      "cell_type": "markdown",
      "source": [
        "### 휴먼 세그멘테이션 마스크 생성 모델"
      ],
      "metadata": {
        "id": "FHHxH87diN7D"
      }
    },
    {
      "cell_type": "code",
      "metadata": {
        "id": "3hSJI347rZtQ",
        "colab": {
          "base_uri": "https://localhost:8080/",
          "height": 105
        },
        "outputId": "3c8559eb-32be-42c2-f724-c0bc9c941629"
      },
      "source": [
        "gdown.download('https://drive.google.com/uc?id=1k4dllHpu0bdx38J7H28rVVLpU-kOHmnH', 'lip_final.pth', quiet=False)"
      ],
      "execution_count": null,
      "outputs": [
        {
          "output_type": "stream",
          "name": "stderr",
          "text": [
            "Downloading...\n",
            "From: https://drive.google.com/uc?id=1k4dllHpu0bdx38J7H28rVVLpU-kOHmnH\n",
            "To: /content/ACGPN/lip_final.pth\n",
            "100%|██████████| 267M/267M [00:05<00:00, 51.9MB/s]\n"
          ]
        },
        {
          "output_type": "execute_result",
          "data": {
            "text/plain": [
              "'lip_final.pth'"
            ],
            "application/vnd.google.colaboratory.intrinsic+json": {
              "type": "string"
            }
          },
          "metadata": {},
          "execution_count": 7
        }
      ]
    },
    {
      "cell_type": "markdown",
      "source": [
        "### U2Net 모델\n",
        "\n",
        "옷 마스크 추출 모델"
      ],
      "metadata": {
        "id": "QhpO0t1wio9_"
      }
    },
    {
      "cell_type": "code",
      "metadata": {
        "id": "vzy8poZT6pcU",
        "colab": {
          "base_uri": "https://localhost:8080/"
        },
        "outputId": "25add0fc-9c31-4ff3-bb58-82aa01bbbe57"
      },
      "source": [
        "%cd U-2-Net\n",
        "!mkdir saved_models\n",
        "!mkdir saved_models/u2net\n",
        "!mkdir saved_models/u2netp\n",
        "\n",
        "!gdown 1rbSTGKAE-MTxBYHd-51l2hMOQPT_7EPy -O saved_models/u2netp/u2netp.pth\n",
        "!gdown 1ao1ovG1Qtx4b7EoskHXmi2E9rp5CHLcZ -O saved_models/u2net/u2net.pth\n",
        "\n",
        "import u2net_load\n",
        "import u2net_run\n",
        "\n",
        "u2net = u2net_load.model(model_name='u2netp')\n",
        "\n",
        "%cd .."
      ],
      "execution_count": null,
      "outputs": [
        {
          "output_type": "stream",
          "name": "stdout",
          "text": [
            "/content/ACGPN/U-2-Net\n",
            "mkdir: cannot create directory ‘saved_models’: File exists\n",
            "Downloading...\n",
            "From: https://drive.google.com/uc?id=1rbSTGKAE-MTxBYHd-51l2hMOQPT_7EPy\n",
            "To: /content/ACGPN/U-2-Net/saved_models/u2netp/u2netp.pth\n",
            "100% 4.68M/4.68M [00:00<00:00, 63.8MB/s]\n",
            "Downloading...\n",
            "From: https://drive.google.com/uc?id=1ao1ovG1Qtx4b7EoskHXmi2E9rp5CHLcZ\n",
            "To: /content/ACGPN/U-2-Net/saved_models/u2net/u2net.pth\n",
            "100% 176M/176M [00:01<00:00, 98.4MB/s]\n",
            "...load U2NEP---4.7 MB\n",
            "/content/ACGPN\n"
          ]
        }
      ]
    },
    {
      "cell_type": "markdown",
      "source": [
        "### ACGPN 모델"
      ],
      "metadata": {
        "id": "5ycY0WVmjD_f"
      }
    },
    {
      "cell_type": "code",
      "metadata": {
        "id": "r1VknOqswSTW",
        "colab": {
          "base_uri": "https://localhost:8080/"
        },
        "outputId": "f0e5c071-9f90-4b42-8f3e-c757de33b0f6"
      },
      "source": [
        "!mkdir checkpoints\n",
        "\n",
        "gdown.download('https://drive.google.com/uc?id=1UWT6esQIU_d4tUm8cjxDKMhB8joQbrFx', output='checkpoints/ACGPN_checkpoints.zip', quiet=False)\n",
        "\n",
        "!unzip checkpoints/ACGPN_checkpoints.zip -d checkpoints"
      ],
      "execution_count": null,
      "outputs": [
        {
          "output_type": "stream",
          "name": "stderr",
          "text": [
            "Downloading...\n",
            "From: https://drive.google.com/uc?id=1UWT6esQIU_d4tUm8cjxDKMhB8joQbrFx\n",
            "To: /content/ACGPN/checkpoints/ACGPN_checkpoints.zip\n",
            "100%|██████████| 524M/524M [00:04<00:00, 114MB/s]\n"
          ]
        },
        {
          "output_type": "stream",
          "name": "stdout",
          "text": [
            "Archive:  checkpoints/ACGPN_checkpoints.zip\n",
            "   creating: checkpoints/label2city/\n",
            "  inflating: checkpoints/label2city/latest_net_G.pth  \n",
            "  inflating: checkpoints/label2city/latest_net_G1.pth  \n",
            "  inflating: checkpoints/label2city/latest_net_G2.pth  \n",
            "  inflating: checkpoints/label2city/latest_net_U.pth  \n",
            "  inflating: checkpoints/label2city/opt.txt  \n"
          ]
        }
      ]
    },
    {
      "cell_type": "markdown",
      "source": [
        "## VITON 데이터셋\n",
        "\n",
        "https://drive.google.com/uc?id=1tE7hcVFm8Td8kRh5iYRBSDFdvZIkbUIR\n",
        "\n",
        "## AI허브 패션 데이터셋\n",
        "\n",
        "https://www.aihub.or.kr/aihubdata/data/view.do?currMenu=115&topMenu=100&aihubDataSe=realm&dataSetSn=78\n",
        "\n",
        "![](https://aihub.or.kr/web-nas/aihub21/files/public/inline-images/65_%ED%8C%A8%EC%85%98%EC%83%81%ED%92%88%EB%B0%8F%EC%B0%A9%EC%9A%A9%EC%98%81%EC%83%81_%EB%8C%80%ED%91%9C%EB%8F%84.PNG)"
      ],
      "metadata": {
        "id": "g034eSWgbi4j"
      }
    },
    {
      "cell_type": "markdown",
      "source": [
        "## 전처리"
      ],
      "metadata": {
        "id": "r3jABay-kHWy"
      }
    },
    {
      "cell_type": "markdown",
      "source": [
        "### 옷 마스크 추출"
      ],
      "metadata": {
        "id": "9tqSGFNBhj9k"
      }
    },
    {
      "cell_type": "code",
      "metadata": {
        "id": "hBXPbfF5XYRB",
        "colab": {
          "base_uri": "https://localhost:8080/"
        },
        "outputId": "5cd0e6ba-6064-49df-8be1-7d915c2e492e"
      },
      "source": [
        "sorted(os.listdir('inputs/cloth'))"
      ],
      "execution_count": null,
      "outputs": [
        {
          "output_type": "execute_result",
          "data": {
            "text/plain": [
              "['001056_1.jpg']"
            ]
          },
          "metadata": {},
          "execution_count": 12
        }
      ]
    },
    {
      "cell_type": "code",
      "metadata": {
        "id": "Tm-9Up6z0Zpg",
        "colab": {
          "base_uri": "https://localhost:8080/",
          "height": 308
        },
        "outputId": "742df9d0-09bf-4841-8dca-c9460c7c628d"
      },
      "source": [
        "cloth_name = f'cloth_{int(time.time())}.png'\n",
        "\n",
        "cloth_path = os.path.join('inputs/cloth', sorted(os.listdir('inputs/cloth'))[0])\n",
        "cloth = Image.open(cloth_path)\n",
        "cloth = cloth.resize((192, 256), Image.BICUBIC).convert('RGB')\n",
        "cloth.save(os.path.join('Data_preprocessing/test_color', cloth_name))\n",
        "\n",
        "u2net_run.infer(u2net, 'Data_preprocessing/test_color', 'Data_preprocessing/test_edge')\n",
        "\n",
        "Image.open(f'Data_preprocessing/test_edge/{cloth_name}')"
      ],
      "execution_count": null,
      "outputs": [
        {
          "output_type": "stream",
          "name": "stdout",
          "text": [
            "Generating mask for: cloth_1670552521.png\n",
            "Saving output at Data_preprocessing/test_edge/cloth_1670552521.png\n"
          ]
        },
        {
          "output_type": "execute_result",
          "data": {
            "text/plain": [
              "<PIL.PngImagePlugin.PngImageFile image mode=RGB size=192x256 at 0x7F879B0E9D60>"
            ],
            "image/png": "[encoded data removed]"
          },
          "metadata": {},
          "execution_count": 13
        }
      ]
    },
    {
      "cell_type": "markdown",
      "source": [
        "### 모델 포즈, 세그멘테이션"
      ],
      "metadata": {
        "id": "N7WqDchhhgVO"
      }
    },
    {
      "cell_type": "code",
      "metadata": {
        "id": "tj8vmpyXX0tx",
        "colab": {
          "base_uri": "https://localhost:8080/"
        },
        "outputId": "a5a62784-10a8-499b-be5f-8b5c3826ab79"
      },
      "source": [
        "sorted(os.listdir('inputs/img'))"
      ],
      "execution_count": null,
      "outputs": [
        {
          "output_type": "execute_result",
          "data": {
            "text/plain": [
              "['000997_0.jpg']"
            ]
          },
          "metadata": {},
          "execution_count": 14
        }
      ]
    },
    {
      "cell_type": "code",
      "metadata": {
        "id": "Y3aHah45D655",
        "colab": {
          "base_uri": "https://localhost:8080/"
        },
        "outputId": "d283a553-4f95-4ead-a4d7-16b927a29621"
      },
      "source": [
        "img_name = f'img_{int(time.time())}.png'\n",
        "\n",
        "img_path = os.path.join('inputs/img', sorted(os.listdir('inputs/img'))[0])\n",
        "img = Image.open(img_path)\n",
        "img = img.resize((192,256), Image.BICUBIC)\n",
        "\n",
        "img_path = os.path.join('Data_preprocessing/test_img', img_name)\n",
        "img.save(img_path)\n",
        "\n",
        "!python3 Self-Correction-Human-Parsing-for-ACGPN/simple_extractor.py --dataset 'lip' --model-restore 'lip_final.pth' --input-dir 'Data_preprocessing/test_img' --output-dir 'Data_preprocessing/test_label'\n",
        "\n",
        "pose_path = os.path.join('Data_preprocessing/test_pose', img_name.replace('.png', '_keypoints.json'))\n",
        "generate_pose_keypoints(img_path, pose_path)"
      ],
      "execution_count": null,
      "outputs": [
        {
          "output_type": "stream",
          "name": "stdout",
          "text": [
            "100% 1/1 [00:01<00:00,  1.75s/it]\n",
            "File saved at Data_preprocessing/test_pose/img_1670552538_keypoints.json\n"
          ]
        }
      ]
    },
    {
      "cell_type": "markdown",
      "source": [
        "## 추론"
      ],
      "metadata": {
        "id": "SdbIgthWkJFK"
      }
    },
    {
      "cell_type": "code",
      "metadata": {
        "id": "EgMi912KAUNs"
      },
      "source": [
        "!rm -rf Data_preprocessing/test_pairs.txt\n",
        "with open('Data_preprocessing/test_pairs.txt', 'w') as f:\n",
        "    f.write(f'{img_name} {cloth_name}')"
      ],
      "execution_count": null,
      "outputs": []
    },
    {
      "cell_type": "code",
      "metadata": {
        "id": "EIcoP4ll14Ia",
        "colab": {
          "base_uri": "https://localhost:8080/"
        },
        "outputId": "573972d5-02a1-4cec-c855-1eadc0063634"
      },
      "source": [
        "!python test.py"
      ],
      "execution_count": null,
      "outputs": [
        {
          "output_type": "stream",
          "name": "stdout",
          "text": [
            "?\n",
            "------------ Options -------------\n",
            "aspect_ratio: 1.0\n",
            "batchSize: 1\n",
            "checkpoints_dir: ./checkpoints\n",
            "cluster_path: features_clustered_010.npy\n",
            "continue_train: False\n",
            "data_type: 32\n",
            "datapairs: test_pairs.txt\n",
            "dataroot: Data_preprocessing/\n",
            "display_winsize: 512\n",
            "engine: None\n",
            "export_onnx: None\n",
            "fineSize: 512\n",
            "gpu_ids: [0]\n",
            "how_many: 1000\n",
            "input_nc: 3\n",
            "isTrain: False\n",
            "label_nc: 20\n",
            "loadSize: 512\n",
            "max_dataset_size: inf\n",
            "model: pix2pixHD\n",
            "nThreads: 1\n",
            "n_blocks_global: 4\n",
            "n_blocks_local: 3\n",
            "n_downsample_global: 4\n",
            "n_local_enhancers: 1\n",
            "name: label2city\n",
            "netG: global\n",
            "ngf: 64\n",
            "niter_fix_global: 0\n",
            "no_flip: False\n",
            "norm: instance\n",
            "ntest: inf\n",
            "onnx: None\n",
            "output_nc: 3\n",
            "phase: test\n",
            "resize_or_crop: scale_width\n",
            "results_dir: ./results/\n",
            "serial_batches: True\n",
            "tf_log: False\n",
            "use_dropout: False\n",
            "use_encoded_image: False\n",
            "verbose: False\n",
            "which_epoch: latest\n",
            "-------------- End ----------------\n",
            "CustomDatasetDataLoader\n",
            "dataset [AlignedDataset] was created\n",
            "Data_preprocessing/test_label label\n",
            "Data_preprocessing/test_img img\n",
            "Data_preprocessing/test_edge edge\n",
            "Data_preprocessing/test_edge edge\n",
            "Data_preprocessing/test_mask mask\n",
            "Data_preprocessing/test_mask mask\n",
            "Data_preprocessing/test_colormask colormask\n",
            "Data_preprocessing/test_colormask colormask\n",
            "Data_preprocessing/test_color color\n",
            "Data_preprocessing/test_color color\n",
            "# Inference images = 1\n",
            "latest_net_U.pth\n",
            "latest_net_G1.pth\n",
            "latest_net_G2.pth\n",
            "latest_net_G.pth\n",
            "/usr/local/lib/python3.8/dist-packages/torchvision/transforms/transforms.py:329: UserWarning: Argument 'interpolation' of type int is deprecated since 0.13 and will be removed in 0.15. Please use InterpolationMode enum.\n",
            "  warnings.warn(\n",
            "test.py:90: DeprecationWarning: `np.float` is a deprecated alias for the builtin `float`. To silence this warning, use `float` by itself. Doing this will not modify any behavior and is safe. If you specifically wanted the numpy scalar type, use `np.float64` here.\n",
            "Deprecated in NumPy 1.20; for more details and guidance: https://numpy.org/devdocs/release/1.20.0-notes.html#deprecations\n",
            "  (data['label'].cpu().numpy() == 7).astype(np.float))\n",
            "test.py:94: DeprecationWarning: `np.int` is a deprecated alias for the builtin `int`. To silence this warning, use `int` by itself. Doing this will not modify any behavior and is safe. When replacing `np.int`, you may wish to use e.g. `np.int64` or `np.int32` to specify the precision. If you wish to review your current use, check the release note link for additional information.\n",
            "Deprecated in NumPy 1.20; for more details and guidance: https://numpy.org/devdocs/release/1.20.0-notes.html#deprecations\n",
            "  (data['label'].cpu().numpy() == 4).astype(np.int))\n",
            "test.py:96: DeprecationWarning: `np.int` is a deprecated alias for the builtin `int`. To silence this warning, use `int` by itself. Doing this will not modify any behavior and is safe. When replacing `np.int`, you may wish to use e.g. `np.int64` or `np.int32` to specify the precision. If you wish to review your current use, check the release note link for additional information.\n",
            "Deprecated in NumPy 1.20; for more details and guidance: https://numpy.org/devdocs/release/1.20.0-notes.html#deprecations\n",
            "  (data['label'].cpu().numpy() > 0).astype(np.int))\n",
            "test.py:65: DeprecationWarning: `np.int` is a deprecated alias for the builtin `int`. To silence this warning, use `int` by itself. Doing this will not modify any behavior and is safe. When replacing `np.int`, you may wish to use e.g. `np.int64` or `np.int32` to specify the precision. If you wish to review your current use, check the release note link for additional information.\n",
            "Deprecated in NumPy 1.20; for more details and guidance: https://numpy.org/devdocs/release/1.20.0-notes.html#deprecations\n",
            "  arm1 = torch.FloatTensor((old_label.cpu().numpy() == 11).astype(np.int))\n",
            "test.py:66: DeprecationWarning: `np.int` is a deprecated alias for the builtin `int`. To silence this warning, use `int` by itself. Doing this will not modify any behavior and is safe. When replacing `np.int`, you may wish to use e.g. `np.int64` or `np.int32` to specify the precision. If you wish to review your current use, check the release note link for additional information.\n",
            "Deprecated in NumPy 1.20; for more details and guidance: https://numpy.org/devdocs/release/1.20.0-notes.html#deprecations\n",
            "  arm2 = torch.FloatTensor((old_label.cpu().numpy() == 13).astype(np.int))\n",
            "test.py:67: DeprecationWarning: `np.int` is a deprecated alias for the builtin `int`. To silence this warning, use `int` by itself. Doing this will not modify any behavior and is safe. When replacing `np.int`, you may wish to use e.g. `np.int64` or `np.int32` to specify the precision. If you wish to review your current use, check the release note link for additional information.\n",
            "Deprecated in NumPy 1.20; for more details and guidance: https://numpy.org/devdocs/release/1.20.0-notes.html#deprecations\n",
            "  noise = torch.FloatTensor((old_label.cpu().numpy() == 7).astype(np.int))\n",
            "/usr/local/lib/python3.8/dist-packages/torch/nn/functional.py:1956: UserWarning: nn.functional.tanh is deprecated. Use torch.tanh instead.\n",
            "  warnings.warn(\"nn.functional.tanh is deprecated. Use torch.tanh instead.\")\n",
            "/usr/local/lib/python3.8/dist-packages/torch/nn/functional.py:4227: UserWarning: Default grid_sample and affine_grid behavior has changed to align_corners=False since 1.3.0. Please specify align_corners=True if the old behavior is desired. See the documentation of grid_sample for details.\n",
            "  warnings.warn(\n",
            "Saving img_1670552538.png\n"
          ]
        }
      ]
    },
    {
      "cell_type": "markdown",
      "source": [
        "## 결과"
      ],
      "metadata": {
        "id": "IrPaN8nYlnYc"
      }
    },
    {
      "cell_type": "code",
      "metadata": {
        "id": "f5FWfCeyJ8VL",
        "colab": {
          "base_uri": "https://localhost:8080/",
          "height": 273
        },
        "outputId": "34644d6f-074d-4877-bfee-af1ec59e9834"
      },
      "source": [
        "output_grid = np.concatenate([\n",
        "    np.array(Image.open(f'Data_preprocessing/test_img/{img_name}')),\n",
        "    np.array(Image.open(f'Data_preprocessing/test_color/{cloth_name}')),\n",
        "    np.array(Image.open(f'results/test/try-on/{img_name}'))\n",
        "], axis=1)\n",
        "\n",
        "image_grid = Image.fromarray(output_grid)\n",
        "\n",
        "image_grid"
      ],
      "execution_count": null,
      "outputs": [
        {
          "output_type": "execute_result",
          "data": {
            "text/plain": [
              "<PIL.Image.Image image mode=RGB size=576x256 at 0x7F87AC75C370>"
            ],
            "image/png": "[encoded data removed]"
          },
          "metadata": {},
          "execution_count": 18
        }
      ]
    },
    {
      "cell_type": "code",
      "source": [],
      "metadata": {
        "id": "Wq0TzJAIliUk"
      },
      "execution_count": null,
      "outputs": []
    }
  ]
}